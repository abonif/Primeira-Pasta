{
 "cells": [
  {
   "cell_type": "markdown",
   "id": "01f00a92",
   "metadata": {},
   "source": [
    "# Comandos Auxiliares"
   ]
  },
  {
   "cell_type": "markdown",
   "id": "0d444a54",
   "metadata": {},
   "source": [
    "## Leitura o Arquivo"
   ]
  },
  {
   "cell_type": "code",
   "execution_count": 21,
   "id": "1e21754b",
   "metadata": {
    "ExecuteTime": {
     "end_time": "2021-10-20T23:46:31.358319Z",
     "start_time": "2021-10-20T23:46:31.008080Z"
    }
   },
   "outputs": [],
   "source": [
    "# Função de Leitura do Arquivo\n",
    "import pandas as pd\n",
    "\n",
    "def read_file(file):\n",
    "    return pd.read_csv(file)\n",
    "\n",
    "# Conteúdos estão em uma lista\n",
    "df = read_file('aula_1.csv')"
   ]
  },
  {
   "cell_type": "code",
   "execution_count": 22,
   "id": "f9e3aeef",
   "metadata": {
    "ExecuteTime": {
     "end_time": "2021-10-20T23:46:31.823647Z",
     "start_time": "2021-10-20T23:46:31.806380Z"
    }
   },
   "outputs": [
    {
     "data": {
      "text/html": [
       "<div>\n",
       "<style scoped>\n",
       "    .dataframe tbody tr th:only-of-type {\n",
       "        vertical-align: middle;\n",
       "    }\n",
       "\n",
       "    .dataframe tbody tr th {\n",
       "        vertical-align: top;\n",
       "    }\n",
       "\n",
       "    .dataframe thead th {\n",
       "        text-align: right;\n",
       "    }\n",
       "</style>\n",
       "<table border=\"1\" class=\"dataframe\">\n",
       "  <thead>\n",
       "    <tr style=\"text-align: right;\">\n",
       "      <th></th>\n",
       "      <th>id</th>\n",
       "      <th>first_name</th>\n",
       "      <th>gender</th>\n",
       "      <th>age</th>\n",
       "      <th>married</th>\n",
       "      <th>recently_bought</th>\n",
       "    </tr>\n",
       "  </thead>\n",
       "  <tbody>\n",
       "    <tr>\n",
       "      <th>473</th>\n",
       "      <td>474</td>\n",
       "      <td>Gretta</td>\n",
       "      <td>Male</td>\n",
       "      <td>76</td>\n",
       "      <td>True</td>\n",
       "      <td>False</td>\n",
       "    </tr>\n",
       "    <tr>\n",
       "      <th>529</th>\n",
       "      <td>530</td>\n",
       "      <td>Louis</td>\n",
       "      <td>Male</td>\n",
       "      <td>55</td>\n",
       "      <td>False</td>\n",
       "      <td>True</td>\n",
       "    </tr>\n",
       "    <tr>\n",
       "      <th>319</th>\n",
       "      <td>320</td>\n",
       "      <td>Aimil</td>\n",
       "      <td>Male</td>\n",
       "      <td>51</td>\n",
       "      <td>True</td>\n",
       "      <td>True</td>\n",
       "    </tr>\n",
       "    <tr>\n",
       "      <th>254</th>\n",
       "      <td>255</td>\n",
       "      <td>Shawnee</td>\n",
       "      <td>Female</td>\n",
       "      <td>38</td>\n",
       "      <td>True</td>\n",
       "      <td>True</td>\n",
       "    </tr>\n",
       "    <tr>\n",
       "      <th>99</th>\n",
       "      <td>100</td>\n",
       "      <td>Eddie</td>\n",
       "      <td>Female</td>\n",
       "      <td>52</td>\n",
       "      <td>True</td>\n",
       "      <td>False</td>\n",
       "    </tr>\n",
       "  </tbody>\n",
       "</table>\n",
       "</div>"
      ],
      "text/plain": [
       "      id first_name  gender  age  married  recently_bought\n",
       "473  474     Gretta    Male   76     True            False\n",
       "529  530      Louis    Male   55    False             True\n",
       "319  320      Aimil    Male   51     True             True\n",
       "254  255    Shawnee  Female   38     True             True\n",
       "99   100      Eddie  Female   52     True            False"
      ]
     },
     "execution_count": 22,
     "metadata": {},
     "output_type": "execute_result"
    }
   ],
   "source": [
    "df.sample(5)"
   ]
  },
  {
   "cell_type": "markdown",
   "id": "c84f11f3",
   "metadata": {},
   "source": [
    "# Intodução à Lógica de Programação"
   ]
  },
  {
   "cell_type": "markdown",
   "id": "d7a95b10",
   "metadata": {},
   "source": [
    "## Problemas"
   ]
  },
  {
   "cell_type": "markdown",
   "id": "4da1d01d",
   "metadata": {},
   "source": [
    "Dentro da nossa base de dados, selecione os clientes que forem maiores de 18 anos e menores de 65 anos. Desses clientes, eu quero que você selecione todas as mulheres, pois o marketing quer enviar um voucher de 10% para elas. Depois, selecione somente os homens que forem casados, caso não sejam casados, selecione somente os que tiverem feito uma compra no último mês na loja, porque eu quero enviar um voucher de 10% em alguns produtos selecionados. Esses clientes selecionados serão os alvos da nossa campanha de dia das Mulheres."
   ]
  },
  {
   "cell_type": "markdown",
   "id": "c90c377b",
   "metadata": {},
   "source": [
    "* Problema 1: Selecionar os clientes com idades entre 18 e 65 anos.\n",
    "    * Parte 1.1: Selecionar os clientes com idade maior que 18 anos\n",
    "    \n",
    "    * Parte 1.2: Selecionar os clientes com idade menor que 65 anos\n",
    "\n",
    "\n",
    "* Problema 2: Selecionar os clientes que são mulheres.\n",
    "\n",
    "\n",
    "* Problema 3: Selecionar os clientes que são homens e que são casados, ou os homens que não são casados mas que compraram na loja no último mês.\n",
    "    * Parte 3.1: Selecionar os clientes que são homens\n",
    "    * Parte 3.2: Selecionar os clientes que são casados\n",
    "    * Parte 3.3: Selecionar os clientes que compraram na loja no último mês"
   ]
  },
  {
   "cell_type": "markdown",
   "id": "0581d5ec",
   "metadata": {},
   "source": [
    "## Solução\n"
   ]
  },
  {
   "cell_type": "code",
   "execution_count": 47,
   "id": "921d5d45",
   "metadata": {
    "ExecuteTime": {
     "end_time": "2021-10-21T00:16:45.723562Z",
     "start_time": "2021-10-21T00:16:45.719514Z"
    }
   },
   "outputs": [
    {
     "name": "stdout",
     "output_type": "stream",
     "text": [
      "<class 'list'>\n"
     ]
    }
   ],
   "source": [
    "# Respostas\n",
    "mulheres = []\n",
    "homens = []"
   ]
  },
  {
   "cell_type": "code",
   "execution_count": 37,
   "id": "1c8e0371",
   "metadata": {
    "ExecuteTime": {
     "end_time": "2021-10-21T00:10:02.390064Z",
     "start_time": "2021-10-21T00:10:02.387057Z"
    },
    "hidden": true
   },
   "outputs": [
    {
     "name": "stdout",
     "output_type": "stream",
     "text": [
      "id                       1\n",
      "first_name         Kynthia\n",
      "gender              Female\n",
      "age                     59\n",
      "married              False\n",
      "recently_bought       True\n",
      "Name: 0, dtype: object\n"
     ]
    }
   ],
   "source": [
    "# Versão Inicial\n",
    "# for index, row in df.iterrows():\n",
    "#     print(row)\n",
    "#     break"
   ]
  },
  {
   "cell_type": "code",
   "execution_count": 55,
   "id": "61e4a99a",
   "metadata": {
    "ExecuteTime": {
     "end_time": "2021-10-21T00:49:52.445452Z",
     "start_time": "2021-10-21T00:49:52.442889Z"
    }
   },
   "outputs": [
    {
     "name": "stdout",
     "output_type": "stream",
     "text": [
      "O valor de A = False\n",
      "O valor de B = True\n"
     ]
    }
   ],
   "source": [
    "idade = 19\n",
    "a = not( idade >= 18 )\n",
    "b = idade <= 65\n",
    "\n",
    "print(f'O valor de A = {a}')\n",
    "print(f'O valor de B = {b}')"
   ]
  },
  {
   "cell_type": "code",
   "execution_count": 54,
   "id": "4c40afd2",
   "metadata": {
    "ExecuteTime": {
     "end_time": "2021-10-21T00:46:08.878369Z",
     "start_time": "2021-10-21T00:46:08.875671Z"
    }
   },
   "outputs": [
    {
     "name": "stdout",
     "output_type": "stream",
     "text": [
      "falso\n"
     ]
    }
   ],
   "source": [
    "if(a and b):\n",
    "    print('verdadeiro')\n",
    "else:\n",
    "    print('falso')"
   ]
  },
  {
   "cell_type": "code",
   "execution_count": 39,
   "id": "70463eab",
   "metadata": {
    "ExecuteTime": {
     "end_time": "2021-10-21T00:10:35.652061Z",
     "start_time": "2021-10-21T00:10:35.598584Z"
    },
    "code_folding": []
   },
   "outputs": [],
   "source": [
    "# Versão Inicial\n",
    "for index, row in df.iterrows():\n",
    "    # Condicionais aqui\n",
    "    \n",
    "    # Maiores que 18 anos\n",
    "    if(row['age'] >= 18 and row['age'] <= 65):\n",
    "            \n",
    "            # Mulheres\n",
    "            if(row['gender'] == 'Female'):\n",
    "                mulheres.append(row) \n",
    "            \n",
    "            else: # Homens\n",
    "                # Homens casados\n",
    "                if(row['married'] == True):\n",
    "                    homens.append(row)\n",
    "                    \n",
    "                # Homens não casado mas que fizeram compra\n",
    "                elif (row['recently_bought'] == True):\n",
    "                    homens.append(row)"
   ]
  },
  {
   "cell_type": "code",
   "execution_count": 39,
   "id": "a41b4593",
   "metadata": {
    "ExecuteTime": {
     "end_time": "2021-10-21T00:10:35.652061Z",
     "start_time": "2021-10-21T00:10:35.598584Z"
    },
    "code_folding": []
   },
   "outputs": [],
   "source": [
    "# Versão Inicial\n",
    "for index, row in df.iterrows():\n",
    "    # Condicionais aqui\n",
    "    # Maiores que 18 anos\n",
    "    if(row['age'] >= 18):\n",
    "        \n",
    "        # Menores que 65 anos\n",
    "        if(row['age'] <= 65):\n",
    "            \n",
    "            # Mulheres\n",
    "            if(row['gender'] == 'Female'):\n",
    "                mulheres.append(row)\n",
    "                # comando 2\n",
    "                # comando 3    \n",
    "            \n",
    "            else: # Homens\n",
    "                # Homens casados\n",
    "                if(row['married'] == True):\n",
    "                    homens.append(row)\n",
    "                    \n",
    "                # Homens não casado mas que fizeram compra\n",
    "                elif (row['recently_bought'] == True):\n",
    "                    homens.append(row)"
   ]
  },
  {
   "cell_type": "code",
   "execution_count": 40,
   "id": "e9afedbe",
   "metadata": {
    "ExecuteTime": {
     "end_time": "2021-10-21T00:10:41.867471Z",
     "start_time": "2021-10-21T00:10:41.863831Z"
    }
   },
   "outputs": [
    {
     "data": {
      "text/plain": [
       "id                       1\n",
       "first_name         Kynthia\n",
       "gender              Female\n",
       "age                     59\n",
       "married              False\n",
       "recently_bought       True\n",
       "Name: 0, dtype: object"
      ]
     },
     "execution_count": 40,
     "metadata": {},
     "output_type": "execute_result"
    }
   ],
   "source": [
    "mulheres[0]"
   ]
  },
  {
   "cell_type": "code",
   "execution_count": 41,
   "id": "d35f2493",
   "metadata": {
    "ExecuteTime": {
     "end_time": "2021-10-21T00:10:45.541039Z",
     "start_time": "2021-10-21T00:10:45.536411Z"
    }
   },
   "outputs": [
    {
     "data": {
      "text/plain": [
       "id                       5\n",
       "first_name         Chrissy\n",
       "gender                Male\n",
       "age                     26\n",
       "married               True\n",
       "recently_bought      False\n",
       "Name: 4, dtype: object"
      ]
     },
     "execution_count": 41,
     "metadata": {},
     "output_type": "execute_result"
    }
   ],
   "source": [
    "homens[0]"
   ]
  },
  {
   "cell_type": "markdown",
   "id": "ad5edb24",
   "metadata": {},
   "source": [
    "# Exemplo do IF\n"
   ]
  },
  {
   "cell_type": "markdown",
   "id": "2cd7b752",
   "metadata": {},
   "source": [
    "## Estrutura De Teste"
   ]
  },
  {
   "cell_type": "code",
   "execution_count": 5,
   "id": "dbc64155",
   "metadata": {
    "ExecuteTime": {
     "end_time": "2021-09-24T23:07:40.425731Z",
     "start_time": "2021-09-24T23:07:40.421799Z"
    }
   },
   "outputs": [],
   "source": [
    "lista_clientes = [\n",
    "    {'id': 1,  'name': 'Pedro',     'gender': 'M', 'age': 32, 'married': True,  'recently_bought': True},\n",
    "    {'id': 2,  'name': 'Guilherme', 'gender': 'M', 'age': 23, 'married': False, 'recently_bought': True},\n",
    "    {'id': 3,  'name': 'Volpato',   'gender': 'M', 'age': 85, 'married': True,  'recently_bought': False},\n",
    "    {'id': 4,  'name': 'Ferraresi', 'gender': 'M', 'age': 83, 'married': False, 'recently_bought': False},\n",
    "    {'id': 5,  'name': 'Ana',       'gender': 'F', 'age': 29, 'married': True,  'recently_bought': True},\n",
    "    {'id': 6,  'name': 'Carolina',  'gender': 'F', 'age': 92, 'married': False, 'recently_bought': False},\n",
    "    {'id': 7,  'name': 'Curvina',   'gender': 'F', 'age': 44, 'married': False, 'recently_bought': False},\n",
    "    {'id': 8,  'name': 'Ubaldo',    'gender': 'F', 'age': 72, 'married': False, 'recently_bought': False},\n",
    "    {'id': 9,  'name': 'João',      'gender': 'M', 'age': 28, 'married': False, 'recently_bought': True},\n",
    "    {'id': 10, 'name': 'Gabriel',   'gender': 'M', 'age': 82, 'married': True,  'recently_bought': True},\n",
    "]"
   ]
  },
  {
   "cell_type": "code",
   "execution_count": 4,
   "id": "f65ba22a",
   "metadata": {
    "ExecuteTime": {
     "end_time": "2021-09-24T23:07:37.424685Z",
     "start_time": "2021-09-24T23:07:37.421873Z"
    }
   },
   "outputs": [
    {
     "name": "stdout",
     "output_type": "stream",
     "text": [
      "{'id': 1, 'name': 'Pedro', 'gender': 'M', 'age': 32, 'married': True, 'recently_bought': True}\n"
     ]
    }
   ],
   "source": [
    "for cliente in lista_clientes:\n",
    "    if (cliente['id'] == 1):\n",
    "        print(cliente)\n",
    "        break"
   ]
  },
  {
   "cell_type": "markdown",
   "id": "dc4ad6a9",
   "metadata": {
    "heading_collapsed": true
   },
   "source": [
    "## Exemplos"
   ]
  },
  {
   "cell_type": "markdown",
   "id": "a6b4bea4",
   "metadata": {
    "heading_collapsed": true,
    "hidden": true
   },
   "source": [
    "### Selecione o cliente caso o nome dele seja Pedro"
   ]
  },
  {
   "cell_type": "code",
   "execution_count": 9,
   "id": "b3e7fd5d",
   "metadata": {
    "ExecuteTime": {
     "end_time": "2021-09-24T23:26:16.338766Z",
     "start_time": "2021-09-24T23:26:16.336594Z"
    },
    "hidden": true
   },
   "outputs": [],
   "source": [
    "resposta =[]\n",
    "\n",
    "for cliente in lista_clientes:\n",
    "    # Condicional aqui\n",
    "    if ():\n",
    "        resposta.append(cliente)"
   ]
  },
  {
   "cell_type": "code",
   "execution_count": null,
   "id": "b2847687",
   "metadata": {
    "hidden": true
   },
   "outputs": [],
   "source": [
    "resposta"
   ]
  },
  {
   "cell_type": "markdown",
   "id": "2a363767",
   "metadata": {
    "heading_collapsed": true,
    "hidden": true
   },
   "source": [
    "### Selecione o cliente caso a idade dele seja maior que 30 anos"
   ]
  },
  {
   "cell_type": "code",
   "execution_count": null,
   "id": "7110eb95",
   "metadata": {
    "hidden": true
   },
   "outputs": [],
   "source": [
    "resposta =[]\n",
    "\n",
    "for cliente in lista_clientes:\n",
    "    # Condicional aqui\n",
    "    if ():\n",
    "        resposta.append(cliente)"
   ]
  },
  {
   "cell_type": "code",
   "execution_count": null,
   "id": "20ae404e",
   "metadata": {
    "hidden": true
   },
   "outputs": [],
   "source": [
    "resposta"
   ]
  },
  {
   "cell_type": "markdown",
   "id": "24f7a388",
   "metadata": {
    "heading_collapsed": true,
    "hidden": true
   },
   "source": [
    "### Selecione os clientes que tenham comprado recentemente"
   ]
  },
  {
   "cell_type": "code",
   "execution_count": null,
   "id": "8af87c6d",
   "metadata": {
    "hidden": true
   },
   "outputs": [],
   "source": [
    "resposta =[]\n",
    "\n",
    "for cliente in lista_clientes:\n",
    "    # Condicional aqui\n",
    "    if ():\n",
    "        resposta.append(cliente)"
   ]
  },
  {
   "cell_type": "code",
   "execution_count": null,
   "id": "847c7b2f",
   "metadata": {
    "hidden": true
   },
   "outputs": [],
   "source": [
    "resposta"
   ]
  },
  {
   "cell_type": "markdown",
   "id": "d07b4f59",
   "metadata": {
    "heading_collapsed": true,
    "hidden": true
   },
   "source": [
    "### Selecione os clientes que sejam mulheres e homens em listas separadas"
   ]
  },
  {
   "cell_type": "code",
   "execution_count": null,
   "id": "25304bc9",
   "metadata": {
    "hidden": true
   },
   "outputs": [],
   "source": [
    "mulheres = []\n",
    "homens = []\n",
    "\n",
    "for cliente in lista_clientes:\n",
    "    # Condicional aqui"
   ]
  },
  {
   "cell_type": "code",
   "execution_count": null,
   "id": "bff31287",
   "metadata": {
    "hidden": true
   },
   "outputs": [],
   "source": [
    "homens"
   ]
  },
  {
   "cell_type": "code",
   "execution_count": null,
   "id": "237f7bc3",
   "metadata": {
    "hidden": true
   },
   "outputs": [],
   "source": [
    "mulheres"
   ]
  },
  {
   "cell_type": "markdown",
   "id": "4ddaa725",
   "metadata": {
    "hidden": true
   },
   "source": [
    "### Faça a seguinte seleção\n",
    "\n",
    "Selecione os clientes que são casado e não casados. \n",
    "* Dos que são casados, selecione os que compraram e os que não compraram recentemente na loja. \n",
    "* Dos não casasdos, separe os que são homens. \n",
    "    * Dos homens separados, selecione os que tem idade maior que 35 anos\n",
    "    * Dos homens separados que não tem idade maior que 35 anos, separe o cliente que tem o nome de Pedro\n",
    "    "
   ]
  },
  {
   "cell_type": "code",
   "execution_count": null,
   "id": "367d0dec",
   "metadata": {
    "hidden": true
   },
   "outputs": [],
   "source": [
    "# respostas\n",
    "casados = []\n",
    "nao_casados = []\n",
    "compraram = []\n",
    "nao_compraram = []\n",
    "maior_35 = []\n",
    "pedro = []"
   ]
  },
  {
   "cell_type": "code",
   "execution_count": null,
   "id": "76183bc0",
   "metadata": {
    "hidden": true
   },
   "outputs": [],
   "source": [
    "for cliente in lista_clientes:\n",
    "    # Condicional aqui"
   ]
  },
  {
   "cell_type": "code",
   "execution_count": null,
   "id": "fa9de7ec",
   "metadata": {
    "hidden": true
   },
   "outputs": [],
   "source": [
    "casados"
   ]
  },
  {
   "cell_type": "code",
   "execution_count": null,
   "id": "342f275c",
   "metadata": {
    "hidden": true
   },
   "outputs": [],
   "source": [
    "nao_casados"
   ]
  },
  {
   "cell_type": "code",
   "execution_count": null,
   "id": "aa93847f",
   "metadata": {
    "hidden": true
   },
   "outputs": [],
   "source": [
    "compraram"
   ]
  },
  {
   "cell_type": "code",
   "execution_count": null,
   "id": "13a05bf9",
   "metadata": {
    "hidden": true
   },
   "outputs": [],
   "source": [
    "nao_compraram"
   ]
  },
  {
   "cell_type": "code",
   "execution_count": null,
   "id": "2880fc09",
   "metadata": {
    "hidden": true
   },
   "outputs": [],
   "source": [
    "maior_35"
   ]
  },
  {
   "cell_type": "code",
   "execution_count": null,
   "id": "cfbf9b07",
   "metadata": {
    "hidden": true
   },
   "outputs": [],
   "source": [
    "pedro"
   ]
  },
  {
   "cell_type": "markdown",
   "id": "6fce672f",
   "metadata": {},
   "source": [
    "# Operadores em Python"
   ]
  },
  {
   "cell_type": "markdown",
   "id": "687893c6",
   "metadata": {},
   "source": [
    "## Operadores Aritméticos e Relacionais"
   ]
  },
  {
   "cell_type": "markdown",
   "id": "b4969f76",
   "metadata": {
    "heading_collapsed": true
   },
   "source": [
    "### Operadores Aritméticos"
   ]
  },
  {
   "cell_type": "code",
   "execution_count": 1,
   "id": "c6259230",
   "metadata": {
    "ExecuteTime": {
     "end_time": "2021-10-20T22:28:11.134583Z",
     "start_time": "2021-10-20T22:28:11.132120Z"
    },
    "hidden": true
   },
   "outputs": [],
   "source": [
    "a = 5\n",
    "b = 2"
   ]
  },
  {
   "cell_type": "code",
   "execution_count": 2,
   "id": "4fad4e58",
   "metadata": {
    "ExecuteTime": {
     "end_time": "2021-10-20T22:28:40.302564Z",
     "start_time": "2021-10-20T22:28:40.299605Z"
    },
    "hidden": true
   },
   "outputs": [
    {
     "name": "stdout",
     "output_type": "stream",
     "text": [
      "7\n",
      "<class 'int'>\n"
     ]
    }
   ],
   "source": [
    "# Soma\n",
    "result = a + b\n",
    "print(result)\n",
    "print(type(result))"
   ]
  },
  {
   "cell_type": "code",
   "execution_count": 3,
   "id": "2498a3e2",
   "metadata": {
    "ExecuteTime": {
     "end_time": "2021-10-20T22:29:46.287976Z",
     "start_time": "2021-10-20T22:29:46.285420Z"
    },
    "hidden": true
   },
   "outputs": [
    {
     "name": "stdout",
     "output_type": "stream",
     "text": [
      "3\n",
      "<class 'int'>\n"
     ]
    }
   ],
   "source": [
    "# Subtração\n",
    "result = a - b\n",
    "print(result)\n",
    "print(type(result))"
   ]
  },
  {
   "cell_type": "code",
   "execution_count": 5,
   "id": "a99a7b65",
   "metadata": {
    "ExecuteTime": {
     "end_time": "2021-10-20T22:29:46.287976Z",
     "start_time": "2021-10-20T22:29:46.285420Z"
    },
    "hidden": true
   },
   "outputs": [
    {
     "name": "stdout",
     "output_type": "stream",
     "text": [
      "10\n",
      "<class 'int'>\n"
     ]
    }
   ],
   "source": [
    "# Multiplicação\n",
    "result = a * b\n",
    "print(result)\n",
    "print(type(result))"
   ]
  },
  {
   "cell_type": "code",
   "execution_count": 6,
   "id": "665f156f",
   "metadata": {
    "ExecuteTime": {
     "end_time": "2021-10-20T22:29:46.287976Z",
     "start_time": "2021-10-20T22:29:46.285420Z"
    },
    "hidden": true
   },
   "outputs": [
    {
     "name": "stdout",
     "output_type": "stream",
     "text": [
      "25\n",
      "<class 'int'>\n"
     ]
    }
   ],
   "source": [
    "# Potenciação\n",
    "result = a ** b\n",
    "print(result)\n",
    "print(type(result))"
   ]
  },
  {
   "cell_type": "code",
   "execution_count": 7,
   "id": "29f0d90f",
   "metadata": {
    "ExecuteTime": {
     "end_time": "2021-10-20T22:29:46.287976Z",
     "start_time": "2021-10-20T22:29:46.285420Z"
    },
    "hidden": true
   },
   "outputs": [
    {
     "name": "stdout",
     "output_type": "stream",
     "text": [
      "2.5\n",
      "<class 'float'>\n"
     ]
    }
   ],
   "source": [
    "# Divisão\n",
    "result = a / b\n",
    "print(result)\n",
    "print(type(result))"
   ]
  },
  {
   "cell_type": "code",
   "execution_count": 8,
   "id": "e2218372",
   "metadata": {
    "ExecuteTime": {
     "end_time": "2021-10-20T22:30:06.290578Z",
     "start_time": "2021-10-20T22:30:06.287485Z"
    },
    "hidden": true
   },
   "outputs": [
    {
     "name": "stdout",
     "output_type": "stream",
     "text": [
      "2\n",
      "<class 'int'>\n"
     ]
    }
   ],
   "source": [
    "# Divisão inteira\n",
    "result = a // b\n",
    "print(result)\n",
    "print(type(result))"
   ]
  },
  {
   "cell_type": "code",
   "execution_count": 9,
   "id": "edd917a2",
   "metadata": {
    "ExecuteTime": {
     "end_time": "2021-10-20T22:30:06.290578Z",
     "start_time": "2021-10-20T22:30:06.287485Z"
    },
    "hidden": true
   },
   "outputs": [
    {
     "name": "stdout",
     "output_type": "stream",
     "text": [
      "1\n",
      "<class 'int'>\n"
     ]
    }
   ],
   "source": [
    "# Resto da Divisão\n",
    "result = a % b\n",
    "print(result)\n",
    "print(type(result))"
   ]
  },
  {
   "cell_type": "markdown",
   "id": "e2e177b1",
   "metadata": {
    "heading_collapsed": true
   },
   "source": [
    "### Operadores Relacionais"
   ]
  },
  {
   "cell_type": "code",
   "execution_count": 10,
   "id": "f35db468",
   "metadata": {
    "ExecuteTime": {
     "end_time": "2021-10-20T22:30:29.297527Z",
     "start_time": "2021-10-20T22:30:29.291594Z"
    },
    "hidden": true
   },
   "outputs": [],
   "source": [
    "a = 5\n",
    "b = 2"
   ]
  },
  {
   "cell_type": "code",
   "execution_count": 11,
   "id": "c3a8b4ce",
   "metadata": {
    "ExecuteTime": {
     "end_time": "2021-10-20T22:30:44.296514Z",
     "start_time": "2021-10-20T22:30:44.294084Z"
    },
    "hidden": true
   },
   "outputs": [
    {
     "name": "stdout",
     "output_type": "stream",
     "text": [
      "True\n"
     ]
    }
   ],
   "source": [
    "# Maior que\n",
    "print(a > b)"
   ]
  },
  {
   "cell_type": "code",
   "execution_count": 15,
   "id": "20b8a798",
   "metadata": {
    "ExecuteTime": {
     "end_time": "2021-10-21T00:10:02.390064Z",
     "start_time": "2021-10-21T00:10:02.387057Z"
    },
    "hidden": true
   },
   "outputs": [
    {
     "name": "stdout",
     "output_type": "stream",
     "text": [
      "True\n"
     ]
    }
   ],
   "source": [
    "# Maior ou igual que\n",
    "print(a >= b)"
   ]
  },
  {
   "cell_type": "code",
   "execution_count": 16,
   "id": "0f90c9b3",
   "metadata": {
    "ExecuteTime": {
     "end_time": "2021-10-21T00:10:02.390064Z",
     "start_time": "2021-10-21T00:10:02.387057Z"
    },
    "hidden": true
   },
   "outputs": [
    {
     "name": "stdout",
     "output_type": "stream",
     "text": [
      "False\n"
     ]
    }
   ],
   "source": [
    "# Menor que\n",
    "print(a < b)"
   ]
  },
  {
   "cell_type": "code",
   "execution_count": 17,
   "id": "34a6a66c",
   "metadata": {
    "ExecuteTime": {
     "end_time": "2021-10-21T00:10:02.390064Z",
     "start_time": "2021-10-21T00:10:02.387057Z"
    },
    "hidden": true
   },
   "outputs": [
    {
     "name": "stdout",
     "output_type": "stream",
     "text": [
      "True\n"
     ]
    }
   ],
   "source": [
    "# Menor ou igual que\n",
    "print(a > b)"
   ]
  },
  {
   "cell_type": "code",
   "execution_count": 18,
   "id": "7cb3fce0",
   "metadata": {
    "ExecuteTime": {
     "end_time": "2021-10-21T00:10:02.390064Z",
     "start_time": "2021-10-21T00:10:02.387057Z"
    },
    "hidden": true
   },
   "outputs": [
    {
     "name": "stdout",
     "output_type": "stream",
     "text": [
      "False\n"
     ]
    }
   ],
   "source": [
    "# Igualdade\n",
    "print(a == b)"
   ]
  },
  {
   "cell_type": "code",
   "execution_count": 20,
   "id": "a7318ead",
   "metadata": {
    "ExecuteTime": {
     "end_time": "2021-10-21T00:10:02.390064Z",
     "start_time": "2021-10-21T00:10:02.387057Z"
    },
    "hidden": true
   },
   "outputs": [
    {
     "name": "stdout",
     "output_type": "stream",
     "text": [
      "True\n"
     ]
    }
   ],
   "source": [
    "# Diferença\n",
    "print(a != b)"
   ]
  },
  {
   "cell_type": "markdown",
   "id": "5ed49aed",
   "metadata": {
    "heading_collapsed": true
   },
   "source": [
    "## Operadores Lógicos"
   ]
  },
  {
   "cell_type": "markdown",
   "id": "afdc3a7d",
   "metadata": {
    "hidden": true
   },
   "source": [
    "Utilizando a lista criada no exemplo do *if* (conform abaixo), selecione os clientes com base no pedido"
   ]
  },
  {
   "cell_type": "markdown",
   "id": "a891c14e",
   "metadata": {
    "hidden": true
   },
   "source": [
    "```python\n",
    "lista_clientes = [\n",
    "    {'id': 1,  'name': 'Pedro',     'gender': 'M', 'age': 32, 'married': True,  'recently_bought': True},\n",
    "    {'id': 2,  'name': 'Guilherme', 'gender': 'M', 'age': 23, 'married': False, 'recently_bought': True},\n",
    "    {'id': 3,  'name': 'Volpato',   'gender': 'M', 'age': 85, 'married': True,  'recently_bought': False},\n",
    "    {'id': 4,  'name': 'Ferraresi', 'gender': 'M', 'age': 83, 'married': False, 'recently_bought': False},\n",
    "    {'id': 5,  'name': 'Ana',       'gender': 'F', 'age': 29, 'married': True,  'recently_bought': True},\n",
    "    {'id': 6,  'name': 'Carolina',  'gender': 'F', 'age': 92, 'married': False, 'recently_bought': False},\n",
    "    {'id': 7,  'name': 'Curvina',   'gender': 'F', 'age': 44, 'married': False, 'recently_bought': False},\n",
    "    {'id': 8,  'name': 'Ubaldo',    'gender': 'F', 'age': 72, 'married': False, 'recently_bought': False},\n",
    "    {'id': 9,  'name': 'João',      'gender': 'M', 'age': 28, 'married': False, 'recently_bought': True},\n",
    "    {'id': 10, 'name': 'Gabriel',   'gender': 'M', 'age': 82, 'married': True,  'recently_bought': True},\n",
    "]\n",
    "```"
   ]
  },
  {
   "cell_type": "markdown",
   "id": "0908af79",
   "metadata": {
    "heading_collapsed": true,
    "hidden": true
   },
   "source": [
    "### 1. Operador E (AND) - Selecione os clientes que sejam casados E que tenham comprado recentemente na loja\n"
   ]
  },
  {
   "cell_type": "code",
   "execution_count": null,
   "id": "8243fc0d",
   "metadata": {
    "hidden": true
   },
   "outputs": [],
   "source": [
    "resposta_1 = []\n",
    "\n",
    "for cliente in lista_clientes:\n",
    "    # Condicional aqui\n",
    "    if ():\n",
    "        resposta_1.append(cliente)"
   ]
  },
  {
   "cell_type": "code",
   "execution_count": null,
   "id": "b68db0d6",
   "metadata": {
    "hidden": true
   },
   "outputs": [],
   "source": [
    "resposta_1"
   ]
  },
  {
   "cell_type": "markdown",
   "id": "c3da7960",
   "metadata": {
    "heading_collapsed": true,
    "hidden": true
   },
   "source": [
    "### 2. Operador OU (OR) - Selecione os clientes que não sejam casados OU que sejam mulheres\n"
   ]
  },
  {
   "cell_type": "code",
   "execution_count": null,
   "id": "3adb2409",
   "metadata": {
    "hidden": true
   },
   "outputs": [],
   "source": [
    "resposta_2 = []\n",
    "\n",
    "for cliente in lista_clientes:\n",
    "    # Condicional aqui\n",
    "    if ():\n",
    "        resposta_2.append(cliente)"
   ]
  },
  {
   "cell_type": "code",
   "execution_count": null,
   "id": "86ac1d0c",
   "metadata": {
    "hidden": true
   },
   "outputs": [],
   "source": [
    "resposta_2"
   ]
  },
  {
   "cell_type": "markdown",
   "id": "798b8895",
   "metadata": {
    "heading_collapsed": true,
    "hidden": true
   },
   "source": [
    "### 3. Operador de Negação (NOT) - Utilizando o operador de Negação, selecione os clientes que são mulheres e não são casados"
   ]
  },
  {
   "cell_type": "code",
   "execution_count": null,
   "id": "927055ab",
   "metadata": {
    "hidden": true
   },
   "outputs": [],
   "source": [
    "resposta_3 = []\n",
    "\n",
    "for cliente in lista_clientes:\n",
    "    # Condicional aqui\n",
    "    if ():\n",
    "        resposta_3.append(cliente)\n",
    "        \n",
    "reposta_3"
   ]
  }
 ],
 "metadata": {
  "kernelspec": {
   "display_name": "Python 3 (ipykernel)",
   "language": "python",
   "name": "python3"
  },
  "language_info": {
   "codemirror_mode": {
    "name": "ipython",
    "version": 3
   },
   "file_extension": ".py",
   "mimetype": "text/x-python",
   "name": "python",
   "nbconvert_exporter": "python",
   "pygments_lexer": "ipython3",
   "version": "3.8.13"
  },
  "latex_envs": {
   "LaTeX_envs_menu_present": true,
   "autoclose": false,
   "autocomplete": true,
   "bibliofile": "biblio.bib",
   "cite_by": "apalike",
   "current_citInitial": 1,
   "eqLabelWithNumbers": true,
   "eqNumInitial": 1,
   "hotkeys": {
    "equation": "Ctrl-E",
    "itemize": "Ctrl-I"
   },
   "labels_anchors": false,
   "latex_user_defs": false,
   "report_style_numbering": false,
   "user_envs_cfg": false
  }
 },
 "nbformat": 4,
 "nbformat_minor": 5
}
